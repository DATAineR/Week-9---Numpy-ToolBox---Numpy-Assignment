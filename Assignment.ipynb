{
 "cells": [
  {
   "cell_type": "code",
   "execution_count": 1,
   "id": "cd850ee9-5496-477f-accc-7dbca07756e8",
   "metadata": {},
   "outputs": [],
   "source": [
    "import numpy as np\n",
    "\n",
    "list_ = ['1','2','3','4','5']\n",
    "\n",
    "array_list = np.array(object = list_)"
   ]
  },
  {
   "cell_type": "code",
   "execution_count": 2,
   "id": "0b216619-19d0-45a5-bda2-29ba71f19cb2",
   "metadata": {},
   "outputs": [
    {
     "data": {
      "text/plain": [
       "array(['1', '2', '3', '4', '5'], dtype='<U1')"
      ]
     },
     "execution_count": 2,
     "metadata": {},
     "output_type": "execute_result"
    }
   ],
   "source": [
    "# Viewing array_list\n",
    "array_list"
   ]
  },
  {
   "cell_type": "markdown",
   "id": "31b818e3-c15c-4c8f-a916-fa36fc6f28ab",
   "metadata": {},
   "source": [
    "Q1. Is there any difference in the data type of variables list_ and array_list? If there is then write a code \n",
    "to print the data types of both the variables."
   ]
  },
  {
   "cell_type": "markdown",
   "id": "4c440b73-5005-4d2c-970a-84624af41f09",
   "metadata": {},
   "source": [
    "\n",
    " Yes, there is a difference in the data type of the list_ and array_list variables.\n",
    "\n",
    " The list_ variable is a Python list of strings, whereas array_list is a NumPy array of strings. Although they both contain the same string values, they have different data types because they are different types of objects.\n",
    "\n",
    " Code to check type below :"
   ]
  },
  {
   "cell_type": "code",
   "execution_count": 3,
   "id": "b3201176-333a-4f2b-bf90-ab0b0f863bd2",
   "metadata": {},
   "outputs": [
    {
     "name": "stdout",
     "output_type": "stream",
     "text": [
      "Type of list_ is : <class 'list'>\n",
      "Type of array_list is : <class 'numpy.ndarray'>\n"
     ]
    }
   ],
   "source": [
    "# Checking type of list_ and array_list\n",
    "print('Type of list_ is :',type(list_))\n",
    "print('Type of array_list is :',type(array_list))"
   ]
  },
  {
   "cell_type": "markdown",
   "id": "65b798f2-f8f4-4dff-9304-764906a2573a",
   "metadata": {},
   "source": [
    "Q2. Write a code to print the data type of each and every element of both the variables list_ and \n",
    "arra_list."
   ]
  },
  {
   "cell_type": "code",
   "execution_count": 4,
   "id": "d45affee-698b-477c-8269-b5fa141876e0",
   "metadata": {},
   "outputs": [
    {
     "name": "stdout",
     "output_type": "stream",
     "text": [
      "Element value : 1, datatype = <class 'str'>\n",
      "Element value : 2, datatype = <class 'str'>\n",
      "Element value : 3, datatype = <class 'str'>\n",
      "Element value : 4, datatype = <class 'str'>\n",
      "Element value : 5, datatype = <class 'str'>\n"
     ]
    }
   ],
   "source": [
    "# Printing data types of each and every element in list_:\n",
    "for i in list_:\n",
    "    print(f'Element value : {i}, datatype = {type(i)}')"
   ]
  },
  {
   "cell_type": "code",
   "execution_count": 5,
   "id": "1cb389b4-1001-4188-8f65-230da71d37ef",
   "metadata": {},
   "outputs": [
    {
     "name": "stdout",
     "output_type": "stream",
     "text": [
      "Element value : 1, datatype = <class 'numpy.str_'>\n",
      "Element value : 2, datatype = <class 'numpy.str_'>\n",
      "Element value : 3, datatype = <class 'numpy.str_'>\n",
      "Element value : 4, datatype = <class 'numpy.str_'>\n",
      "Element value : 5, datatype = <class 'numpy.str_'>\n"
     ]
    }
   ],
   "source": [
    "# Printing data types of each and every element in array_list\n",
    "for i in array_list:\n",
    "    print(f'Element value : {i}, datatype = {type(i)}')"
   ]
  },
  {
   "cell_type": "markdown",
   "id": "f328398e-7deb-46fc-8d26-45a728892f1f",
   "metadata": {},
   "source": [
    "Q3. Considering the following changes in the variable, array_list:\n",
    "array_list = np.array(object = list_, dtype = int)\n"
   ]
  },
  {
   "cell_type": "code",
   "execution_count": 6,
   "id": "7702bf6c-40d9-4b12-85c3-7bf265b9cf3b",
   "metadata": {},
   "outputs": [],
   "source": [
    "array_list = np.array(object = list_, dtype = int)"
   ]
  },
  {
   "cell_type": "code",
   "execution_count": 7,
   "id": "3d31947a-8702-48a5-b362-e7155f88b203",
   "metadata": {},
   "outputs": [
    {
     "data": {
      "text/plain": [
       "array([1, 2, 3, 4, 5])"
      ]
     },
     "execution_count": 7,
     "metadata": {},
     "output_type": "execute_result"
    }
   ],
   "source": [
    "# Viewing array_list\n",
    "array_list"
   ]
  },
  {
   "cell_type": "markdown",
   "id": "0fcbc46f-50c7-4f67-b651-7d10ab155fb0",
   "metadata": {},
   "source": [
    "Will there be any difference in the data type of the elements present in both the variables, list_ and \n",
    "arra_list? If so then print the data types of each and every element present in both the variables, list_ \n",
    "and arra_list"
   ]
  },
  {
   "cell_type": "markdown",
   "id": "cf9dd22e-be0e-4895-ae20-2a5e8b196667",
   "metadata": {},
   "source": [
    "Answer : \n",
    "\n",
    " Yes There will be difference in datatypes of elements present in both lists.\n",
    "\n",
    " List elements will have data type string and array_list will have datatype numpy integer\n",
    "\n",
    " Below is code for showing same"
   ]
  },
  {
   "cell_type": "code",
   "execution_count": 8,
   "id": "164972d1-ab76-4702-bbb2-87cc8d28f0d5",
   "metadata": {},
   "outputs": [
    {
     "name": "stdout",
     "output_type": "stream",
     "text": [
      "Element value : 1, datatype = <class 'str'>\n",
      "Element value : 2, datatype = <class 'str'>\n",
      "Element value : 3, datatype = <class 'str'>\n",
      "Element value : 4, datatype = <class 'str'>\n",
      "Element value : 5, datatype = <class 'str'>\n"
     ]
    }
   ],
   "source": [
    "# Printing data types of each and every element in list_:\n",
    "for i in list_:\n",
    "    print(f'Element value : {i}, datatype = {type(i)}')"
   ]
  },
  {
   "cell_type": "code",
   "execution_count": 9,
   "id": "140b7628-bec7-44d6-bfdd-9607b598d31b",
   "metadata": {},
   "outputs": [
    {
     "name": "stdout",
     "output_type": "stream",
     "text": [
      "Element value : 1, datatype = <class 'numpy.int32'>\n",
      "Element value : 2, datatype = <class 'numpy.int32'>\n",
      "Element value : 3, datatype = <class 'numpy.int32'>\n",
      "Element value : 4, datatype = <class 'numpy.int32'>\n",
      "Element value : 5, datatype = <class 'numpy.int32'>\n"
     ]
    }
   ],
   "source": [
    "# Printing data types of each and every element in modified array_list\n",
    "for i in array_list:\n",
    "    print(f'Element value : {i}, datatype = {type(i)}')"
   ]
  },
  {
   "cell_type": "code",
   "execution_count": 10,
   "id": "f7ef9368-1074-457d-9bfe-5473e2e96beb",
   "metadata": {},
   "outputs": [],
   "source": [
    "import numpy as np\n",
    "\n",
    "num_list = [ [ 1 , 2 , 3 ] , [ 4 , 5 , 6 ] ]\n",
    "\n",
    "num_array = np.array(object = num_list)\n"
   ]
  },
  {
   "cell_type": "code",
   "execution_count": 11,
   "id": "7d714d7d-13aa-410c-8946-a11a88a18861",
   "metadata": {},
   "outputs": [
    {
     "data": {
      "text/plain": [
       "array([[1, 2, 3],\n",
       "       [4, 5, 6]])"
      ]
     },
     "execution_count": 11,
     "metadata": {},
     "output_type": "execute_result"
    }
   ],
   "source": [
    "# Viewing num_array\n",
    "num_array\n"
   ]
  },
  {
   "cell_type": "markdown",
   "id": "2a62a03e-f068-4a37-bee6-25996c223ba2",
   "metadata": {},
   "source": [
    "Q4. Write a code to find the following characteristics of variable, num_array:\n",
    "\n",
    "(i)\t shape\n",
    "\n",
    "(ii) size"
   ]
  },
  {
   "cell_type": "code",
   "execution_count": 12,
   "id": "13cedaab-b97d-4a43-922a-7c0badbcf787",
   "metadata": {},
   "outputs": [
    {
     "data": {
      "text/plain": [
       "(2, 3)"
      ]
     },
     "execution_count": 12,
     "metadata": {},
     "output_type": "execute_result"
    }
   ],
   "source": [
    "# Showing num_array shape\n",
    "num_array.shape"
   ]
  },
  {
   "cell_type": "code",
   "execution_count": 13,
   "id": "5cf80ded-9813-4f3e-a8fa-98406c5c2f46",
   "metadata": {},
   "outputs": [
    {
     "data": {
      "text/plain": [
       "6"
      ]
     },
     "execution_count": 13,
     "metadata": {},
     "output_type": "execute_result"
    }
   ],
   "source": [
    "# Showing num_array size\n",
    "num_array.size"
   ]
  },
  {
   "cell_type": "markdown",
   "id": "1a8f8fa5-3c67-4d2f-ac14-1cc1ea038d7a",
   "metadata": {},
   "source": [
    "Q5. Write a code to create numpy array of 3*3 matrix containing zeros only, using a numpy array \n",
    "creation function.\n",
    "\n",
    "[Hint: The size of the array will be 9 and the shape will be (3,3).]"
   ]
  },
  {
   "cell_type": "code",
   "execution_count": 14,
   "id": "ac80cdf2-709c-4d1d-8689-18cf4fd58917",
   "metadata": {},
   "outputs": [
    {
     "data": {
      "text/plain": [
       "array([[0., 0., 0.],\n",
       "       [0., 0., 0.],\n",
       "       [0., 0., 0.]])"
      ]
     },
     "execution_count": 14,
     "metadata": {},
     "output_type": "execute_result"
    }
   ],
   "source": [
    "## Using np.zeros to create a 3X3 matrix containing zeros\n",
    "arr5 = np.zeros((3,3))\n",
    "arr5"
   ]
  },
  {
   "cell_type": "code",
   "execution_count": 15,
   "id": "35b4d9ef-da5f-4107-bd39-53aa6138f956",
   "metadata": {},
   "outputs": [
    {
     "name": "stdout",
     "output_type": "stream",
     "text": [
      "Size of arr5 is 9\n",
      "Shape of arr5 is (3, 3)\n"
     ]
    }
   ],
   "source": [
    "# Verifying Matrix size and shape\n",
    "print(f'Size of arr5 is {arr5.size}')\n",
    "print(f'Shape of arr5 is {arr5.shape}')"
   ]
  },
  {
   "cell_type": "markdown",
   "id": "4cdc2c8e-2b41-460d-9d73-8684f86f003f",
   "metadata": {},
   "source": [
    "Q6. Create an identity matrix of shape (5,5) using numpy functions?\n",
    "\n",
    "[Hint: An identity matrix is a matrix containing 1 diagonally and other elements will be 0.]"
   ]
  },
  {
   "cell_type": "code",
   "execution_count": 16,
   "id": "7b2ddd71-b2cc-41b1-84cc-b83d987eda36",
   "metadata": {},
   "outputs": [
    {
     "data": {
      "text/plain": [
       "array([[1., 0., 0., 0., 0.],\n",
       "       [0., 1., 0., 0., 0.],\n",
       "       [0., 0., 1., 0., 0.],\n",
       "       [0., 0., 0., 1., 0.],\n",
       "       [0., 0., 0., 0., 1.]])"
      ]
     },
     "execution_count": 16,
     "metadata": {},
     "output_type": "execute_result"
    }
   ],
   "source": [
    "## Creating identity matrix using np.eye\n",
    "arr6 = np.eye(5)\n",
    "arr6"
   ]
  },
  {
   "cell_type": "code",
   "execution_count": null,
   "id": "b74257cc-9c2e-4e2e-8f6f-d775fe5a29b5",
   "metadata": {},
   "outputs": [],
   "source": []
  }
 ],
 "metadata": {
  "kernelspec": {
   "display_name": "Python 3 (ipykernel)",
   "language": "python",
   "name": "python3"
  },
  "language_info": {
   "codemirror_mode": {
    "name": "ipython",
    "version": 3
   },
   "file_extension": ".py",
   "mimetype": "text/x-python",
   "name": "python",
   "nbconvert_exporter": "python",
   "pygments_lexer": "ipython3",
   "version": "3.11.7"
  }
 },
 "nbformat": 4,
 "nbformat_minor": 5
}
